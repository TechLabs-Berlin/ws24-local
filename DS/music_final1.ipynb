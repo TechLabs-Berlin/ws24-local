{
 "cells": [
  {
   "cell_type": "code",
   "execution_count": 1,
   "id": "38c6c978",
   "metadata": {},
   "outputs": [],
   "source": [
    "import pandas as pd\n",
    "from sklearn.feature_extraction.text import TfidfVectorizer\n",
    "from sklearn.metrics.pairwise import cosine_similarity\n",
    "\n",
    "\n",
    "df = pd.read_csv('music_final1.csv')"
   ]
  },
  {
   "cell_type": "code",
   "execution_count": 2,
   "id": "27878110",
   "metadata": {
    "scrolled": true
   },
   "outputs": [
    {
     "name": "stdout",
     "output_type": "stream",
     "text": [
      "     Unnamed: 0    id                    artist  \\\n",
      "588         588  1070                       Lug   \n",
      "222         222   395          Death Of A Dream   \n",
      "886         886  1573                 Skatenigs   \n",
      "511         511   930           Kerosene Shores   \n",
      "622         622  1133  Memories In Broken Glass   \n",
      "\n",
      "                                               summary  genre     subgenre  \\\n",
      "588  Formed in 2005, Lug was born in the hills of C...  Metal  Heavy Metal   \n",
      "222                No description provided for artist.  Metal     Nu Metal   \n",
      "886  Do you live life to the fullest? This is a que...  Metal   Industrial   \n",
      "511  Kerosene Shores:\\nEric James [Vox]\\nJohnny Gin...   Rock  Heavy Metal   \n",
      "622  Up and coming metal/rock band from San Antonio...  Metal         Rock   \n",
      "\n",
      "             date             time          venue         city state  Price  \\\n",
      "588  Mar 16, 2019    8:15pm-8:45pm  Dirty Dog Bar       Austin    TX     73   \n",
      "222  Mar 16, 2019  12:10am-12:50am  Dirty Dog Bar       Austin    TX      9   \n",
      "886  Mar 14, 2019  11:00pm-11:40pm  Dirty Dog Bar       Austin    TX     80   \n",
      "511  Mar 13, 2019  10:00pm-10:40pm  Dirty Dog Bar      Houston    TX     36   \n",
      "622  Mar 16, 2019   9:45pm-10:15pm  Dirty Dog Bar  San Antonio    TX     20   \n",
      "\n",
      "     ratings                                           features  \n",
      "588      4.0     Lug Metal Heavy Metal Dirty Dog Bar Austin  TX  \n",
      "222      4.0  Death Of A Dream Metal Nu Metal Dirty Dog Bar ...  \n",
      "886      4.5  Skatenigs Metal Industrial Dirty Dog Bar Austi...  \n",
      "511      1.5  Kerosene Shores Rock Heavy Metal Dirty Dog Bar...  \n",
      "622      4.0  Memories In Broken Glass Metal Rock Dirty Dog ...  \n"
     ]
    }
   ],
   "source": [
    "\n",
    "\n",
    "# Combine relevant features into a single column\n",
    "df['features'] = df['artist'] + ' ' + df['genre'] + ' ' + df['subgenre'] + ' ' + df['venue'] + ' ' + df['city'] + ' ' + df['state']\n",
    "\n",
    "# TF-IDF Vectorization\n",
    "tfidf_vectorizer = TfidfVectorizer(stop_words='english')\n",
    "tfidf_matrix = tfidf_vectorizer.fit_transform(df['features'])\n",
    "\n",
    "def get_recommendations(concert_index, num_recommendations=5):\n",
    "    # Calculate similarity scores\n",
    "    similarity_scores = cosine_similarity(tfidf_matrix[concert_index], tfidf_matrix)\n",
    "    \n",
    "    # Get indices of top similar concerts\n",
    "    top_indices = similarity_scores.argsort(axis=1)[0][::-1][1:num_recommendations+1]\n",
    "    \n",
    "    # Return recommended concerts\n",
    "    return df.iloc[top_indices]\n",
    "\n",
    "# Example: Get recommendations for concert at index 0\n",
    "recommendations = get_recommendations(0)\n",
    "print(recommendations)"
   ]
  },
  {
   "cell_type": "code",
   "execution_count": null,
   "id": "ee486329",
   "metadata": {},
   "outputs": [],
   "source": []
  }
 ],
 "metadata": {
  "kernelspec": {
   "display_name": "Python 3 (ipykernel)",
   "language": "python",
   "name": "python3"
  },
  "language_info": {
   "codemirror_mode": {
    "name": "ipython",
    "version": 3
   },
   "file_extension": ".py",
   "mimetype": "text/x-python",
   "name": "python",
   "nbconvert_exporter": "python",
   "pygments_lexer": "ipython3",
   "version": "3.11.5"
  }
 },
 "nbformat": 4,
 "nbformat_minor": 5
}
