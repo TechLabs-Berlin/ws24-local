{
 "cells": [
  {
   "cell_type": "code",
   "execution_count": 1,
   "id": "38c6c978",
   "metadata": {},
   "outputs": [],
   "source": [
    "import pandas as pd\n",
    "from sklearn.feature_extraction.text import TfidfVectorizer\n",
    "from sklearn.metrics.pairwise import cosine_similarity\n",
    "\n",
    "\n",
    "df = pd.read_csv('music_final1.csv')"
   ]
  },
  {
   "cell_type": "code",
   "execution_count": 2,
   "id": "27878110",
   "metadata": {
    "scrolled": true
   },
   "outputs": [
    {
     "name": "stdout",
     "output_type": "stream",
     "text": [
      "     Unnamed: 0    id                    artist  \\\n",
      "588         588  1070                       Lug   \n",
      "222         222   395          Death Of A Dream   \n",
      "886         886  1573                 Skatenigs   \n",
      "511         511   930           Kerosene Shores   \n",
      "622         622  1133  Memories In Broken Glass   \n",
      "\n",
      "                                               summary  genre     subgenre  \\\n",
      "588  Formed in 2005, Lug was born in the hills of C...  Metal  Heavy Metal   \n",
      "222                No description provided for artist.  Metal     Nu Metal   \n",
      "886  Do you live life to the fullest? This is a que...  Metal   Industrial   \n",
      "511  Kerosene Shores:\\nEric James [Vox]\\nJohnny Gin...   Rock  Heavy Metal   \n",
      "622  Up and coming metal/rock band from San Antonio...  Metal         Rock   \n",
      "\n",
      "             date             time          venue         city state  Price  \\\n",
      "588  Mar 16, 2019    8:15pm-8:45pm  Dirty Dog Bar       Austin    TX     73   \n",
      "222  Mar 16, 2019  12:10am-12:50am  Dirty Dog Bar       Austin    TX      9   \n",
      "886  Mar 14, 2019  11:00pm-11:40pm  Dirty Dog Bar       Austin    TX     80   \n",
      "511  Mar 13, 2019  10:00pm-10:40pm  Dirty Dog Bar      Houston    TX     36   \n",
      "622  Mar 16, 2019   9:45pm-10:15pm  Dirty Dog Bar  San Antonio    TX     20   \n",
      "\n",
      "     ratings                                           features  \n",
      "588      4.0     Lug Metal Heavy Metal Dirty Dog Bar Austin  TX  \n",
      "222      4.0  Death Of A Dream Metal Nu Metal Dirty Dog Bar ...  \n",
      "886      4.5  Skatenigs Metal Industrial Dirty Dog Bar Austi...  \n",
      "511      1.5  Kerosene Shores Rock Heavy Metal Dirty Dog Bar...  \n",
      "622      4.0  Memories In Broken Glass Metal Rock Dirty Dog ...  \n"
     ]
    }
   ],
   "source": [
    "\n",
    "\n",
    "# Combine relevant features into a single column\n",
    "df['features'] = df['artist'] + ' ' + df['genre'] + ' ' + df['subgenre'] + ' ' + df['venue'] + ' ' + df['city'] + ' ' + df['state']\n",
    "\n",
    "# TF-IDF Vectorization\n",
    "tfidf_vectorizer = TfidfVectorizer(stop_words='english')\n",
    "tfidf_matrix = tfidf_vectorizer.fit_transform(df['features'])\n",
    "\n",
    "def get_recommendations(concert_index, num_recommendations=5):\n",
    "    # Calculate similarity scores\n",
    "    similarity_scores = cosine_similarity(tfidf_matrix[concert_index], tfidf_matrix)\n",
    "    \n",
    "    # Get indices of top similar concerts\n",
    "    top_indices = similarity_scores.argsort(axis=1)[0][::-1][1:num_recommendations+1]\n",
    "    \n",
    "    # Return recommended concerts\n",
    "    return df.iloc[top_indices]\n",
    "\n",
    "# Example: Get recommendations for concert at index 0\n",
    "recommendations = get_recommendations(0)\n",
    "print(recommendations)"
   ]
  },
  {
   "cell_type": "code",
   "execution_count": 14,
   "id": "ee486329",
   "metadata": {},
   "outputs": [],
   "source": [
    "import numpy as np\n",
    "import pandas as pd\n",
    "from sklearn.neighbors import KNeighborsClassifier\n",
    "from sklearn.model_selection import train_test_split"
   ]
  },
  {
   "cell_type": "code",
   "execution_count": 15,
   "id": "146e79de",
   "metadata": {},
   "outputs": [
    {
     "data": {
      "text/html": [
       "<div>\n",
       "<style scoped>\n",
       "    .dataframe tbody tr th:only-of-type {\n",
       "        vertical-align: middle;\n",
       "    }\n",
       "\n",
       "    .dataframe tbody tr th {\n",
       "        vertical-align: top;\n",
       "    }\n",
       "\n",
       "    .dataframe thead th {\n",
       "        text-align: right;\n",
       "    }\n",
       "</style>\n",
       "<table border=\"1\" class=\"dataframe\">\n",
       "  <thead>\n",
       "    <tr style=\"text-align: right;\">\n",
       "      <th></th>\n",
       "      <th>id</th>\n",
       "      <th>artist</th>\n",
       "      <th>summary</th>\n",
       "      <th>genre</th>\n",
       "      <th>subgenre</th>\n",
       "      <th>date</th>\n",
       "      <th>time</th>\n",
       "      <th>venue</th>\n",
       "      <th>city</th>\n",
       "      <th>state</th>\n",
       "      <th>Price</th>\n",
       "      <th>ratings</th>\n",
       "    </tr>\n",
       "  </thead>\n",
       "  <tbody>\n",
       "    <tr>\n",
       "      <th>0</th>\n",
       "      <td>1</td>\n",
       "      <td>AAerial</td>\n",
       "      <td>A fictional story of a lone space traveler tol...</td>\n",
       "      <td>Metal</td>\n",
       "      <td>Progressive</td>\n",
       "      <td>Mar 16, 2019</td>\n",
       "      <td>7:30pm-8:00pm</td>\n",
       "      <td>Dirty Dog Bar</td>\n",
       "      <td>Austin</td>\n",
       "      <td>TX</td>\n",
       "      <td>93</td>\n",
       "      <td>4.0</td>\n",
       "    </tr>\n",
       "    <tr>\n",
       "      <th>1</th>\n",
       "      <td>2</td>\n",
       "      <td>Aaron Cohen</td>\n",
       "      <td>Based in Queens, NY, Aaron Cohen was quickly e...</td>\n",
       "      <td>Hip-Hop / Rap</td>\n",
       "      <td>Hip-Hop</td>\n",
       "      <td>Mar 16, 2019</td>\n",
       "      <td>1:35am-1:50am</td>\n",
       "      <td>Mohawk Indoor</td>\n",
       "      <td>New York</td>\n",
       "      <td>NY</td>\n",
       "      <td>97</td>\n",
       "      <td>2.5</td>\n",
       "    </tr>\n",
       "    <tr>\n",
       "      <th>2</th>\n",
       "      <td>3</td>\n",
       "      <td>Abhi The Nomad</td>\n",
       "      <td>Abhi The Nomad is a producer, rapper and singe...</td>\n",
       "      <td>Hip-Hop / Rap</td>\n",
       "      <td>Hip-Hop / Rap</td>\n",
       "      <td>Mar 15, 2019</td>\n",
       "      <td>3:00pm-3:40pm</td>\n",
       "      <td>Nuevo Leon</td>\n",
       "      <td>Austin</td>\n",
       "      <td>TX</td>\n",
       "      <td>82</td>\n",
       "      <td>4.5</td>\n",
       "    </tr>\n",
       "    <tr>\n",
       "      <th>3</th>\n",
       "      <td>5</td>\n",
       "      <td>Abraham Alexander</td>\n",
       "      <td>Abraham Alexander is one of the most exciting ...</td>\n",
       "      <td>Soul</td>\n",
       "      <td>R &amp; B</td>\n",
       "      <td>Mar 14, 2019</td>\n",
       "      <td>7:50pm-8:20pm</td>\n",
       "      <td>St David's Historic Sanctuary</td>\n",
       "      <td>Fort Worth</td>\n",
       "      <td>TX</td>\n",
       "      <td>100</td>\n",
       "      <td>4.5</td>\n",
       "    </tr>\n",
       "    <tr>\n",
       "      <th>4</th>\n",
       "      <td>9</td>\n",
       "      <td>Adam Melchor</td>\n",
       "      <td>No description provided for artist.</td>\n",
       "      <td>Singer-Songwriter</td>\n",
       "      <td>Folk</td>\n",
       "      <td>Mar 11, 2019</td>\n",
       "      <td>8:00pm-8:30pm</td>\n",
       "      <td>Empire Garage</td>\n",
       "      <td>Los Angeles</td>\n",
       "      <td>CA</td>\n",
       "      <td>80</td>\n",
       "      <td>4.5</td>\n",
       "    </tr>\n",
       "    <tr>\n",
       "      <th>...</th>\n",
       "      <td>...</td>\n",
       "      <td>...</td>\n",
       "      <td>...</td>\n",
       "      <td>...</td>\n",
       "      <td>...</td>\n",
       "      <td>...</td>\n",
       "      <td>...</td>\n",
       "      <td>...</td>\n",
       "      <td>...</td>\n",
       "      <td>...</td>\n",
       "      <td>...</td>\n",
       "      <td>...</td>\n",
       "    </tr>\n",
       "    <tr>\n",
       "      <th>1063</th>\n",
       "      <td>1893</td>\n",
       "      <td>ZĀN</td>\n",
       "      <td>ZĀN is a queer desi singer, songwriter &amp; elect...</td>\n",
       "      <td>Electronic</td>\n",
       "      <td>R &amp; B</td>\n",
       "      <td>Mar 13, 2019</td>\n",
       "      <td>9:00pm-9:40pm</td>\n",
       "      <td>Pour Choices</td>\n",
       "      <td>perth</td>\n",
       "      <td>WA</td>\n",
       "      <td>15</td>\n",
       "      <td>3.5</td>\n",
       "    </tr>\n",
       "    <tr>\n",
       "      <th>1064</th>\n",
       "      <td>1894</td>\n",
       "      <td>Ziminino</td>\n",
       "      <td>A new project from Rafa Dias and Ricô Santana,...</td>\n",
       "      <td>World</td>\n",
       "      <td>World</td>\n",
       "      <td>Mar 16, 2019</td>\n",
       "      <td>12:10am-12:55am</td>\n",
       "      <td>Speakeasy</td>\n",
       "      <td>Rio de Janeiro</td>\n",
       "      <td>BRAZIL</td>\n",
       "      <td>55</td>\n",
       "      <td>1.0</td>\n",
       "    </tr>\n",
       "    <tr>\n",
       "      <th>1065</th>\n",
       "      <td>1897</td>\n",
       "      <td>Zona Tango</td>\n",
       "      <td>ZONA TANGO is an eclectic force blending tango...</td>\n",
       "      <td>World</td>\n",
       "      <td>Electronic</td>\n",
       "      <td>Mar 16, 2019</td>\n",
       "      <td>12:00am-12:40am</td>\n",
       "      <td>Elephant Room</td>\n",
       "      <td>Buenos Aires</td>\n",
       "      <td>ARGENTINA</td>\n",
       "      <td>89</td>\n",
       "      <td>2.0</td>\n",
       "    </tr>\n",
       "    <tr>\n",
       "      <th>1066</th>\n",
       "      <td>1898</td>\n",
       "      <td>ZRN</td>\n",
       "      <td>Formed in 2013, ZRN is best described as an Ex...</td>\n",
       "      <td>Avant / Experimental</td>\n",
       "      <td>Noise</td>\n",
       "      <td>Mar 13, 2019</td>\n",
       "      <td>1:00am-1:50am</td>\n",
       "      <td>The Hideout</td>\n",
       "      <td>Aarhus</td>\n",
       "      <td>DENMARK</td>\n",
       "      <td>77</td>\n",
       "      <td>4.0</td>\n",
       "    </tr>\n",
       "    <tr>\n",
       "      <th>1067</th>\n",
       "      <td>1899</td>\n",
       "      <td>Zunis</td>\n",
       "      <td>ZUNIS is an indie-psych rock trio comprised of...</td>\n",
       "      <td>Rock</td>\n",
       "      <td>Indie Rock</td>\n",
       "      <td>Mar 14, 2019</td>\n",
       "      <td>7:45pm-8:30pm</td>\n",
       "      <td>Augustine</td>\n",
       "      <td>Tulsa</td>\n",
       "      <td>OK</td>\n",
       "      <td>88</td>\n",
       "      <td>4.5</td>\n",
       "    </tr>\n",
       "  </tbody>\n",
       "</table>\n",
       "<p>1068 rows × 12 columns</p>\n",
       "</div>"
      ],
      "text/plain": [
       "        id             artist  \\\n",
       "0        1            AAerial   \n",
       "1        2        Aaron Cohen   \n",
       "2        3     Abhi The Nomad   \n",
       "3        5  Abraham Alexander   \n",
       "4        9       Adam Melchor   \n",
       "...    ...                ...   \n",
       "1063  1893                ZĀN   \n",
       "1064  1894           Ziminino   \n",
       "1065  1897         Zona Tango   \n",
       "1066  1898                ZRN   \n",
       "1067  1899              Zunis   \n",
       "\n",
       "                                                summary                 genre  \\\n",
       "0     A fictional story of a lone space traveler tol...                 Metal   \n",
       "1     Based in Queens, NY, Aaron Cohen was quickly e...         Hip-Hop / Rap   \n",
       "2     Abhi The Nomad is a producer, rapper and singe...         Hip-Hop / Rap   \n",
       "3     Abraham Alexander is one of the most exciting ...                  Soul   \n",
       "4                   No description provided for artist.     Singer-Songwriter   \n",
       "...                                                 ...                   ...   \n",
       "1063  ZĀN is a queer desi singer, songwriter & elect...            Electronic   \n",
       "1064  A new project from Rafa Dias and Ricô Santana,...                 World   \n",
       "1065  ZONA TANGO is an eclectic force blending tango...                 World   \n",
       "1066  Formed in 2013, ZRN is best described as an Ex...  Avant / Experimental   \n",
       "1067  ZUNIS is an indie-psych rock trio comprised of...                  Rock   \n",
       "\n",
       "           subgenre          date             time  \\\n",
       "0       Progressive  Mar 16, 2019    7:30pm-8:00pm   \n",
       "1           Hip-Hop  Mar 16, 2019    1:35am-1:50am   \n",
       "2     Hip-Hop / Rap  Mar 15, 2019    3:00pm-3:40pm   \n",
       "3             R & B  Mar 14, 2019    7:50pm-8:20pm   \n",
       "4              Folk  Mar 11, 2019    8:00pm-8:30pm   \n",
       "...             ...           ...              ...   \n",
       "1063          R & B  Mar 13, 2019    9:00pm-9:40pm   \n",
       "1064          World  Mar 16, 2019  12:10am-12:55am   \n",
       "1065     Electronic  Mar 16, 2019  12:00am-12:40am   \n",
       "1066          Noise  Mar 13, 2019    1:00am-1:50am   \n",
       "1067     Indie Rock  Mar 14, 2019    7:45pm-8:30pm   \n",
       "\n",
       "                              venue            city       state  Price  \\\n",
       "0                     Dirty Dog Bar          Austin          TX     93   \n",
       "1                     Mohawk Indoor        New York          NY     97   \n",
       "2                        Nuevo Leon          Austin          TX     82   \n",
       "3     St David's Historic Sanctuary      Fort Worth          TX    100   \n",
       "4                     Empire Garage     Los Angeles          CA     80   \n",
       "...                             ...             ...         ...    ...   \n",
       "1063                   Pour Choices           perth          WA     15   \n",
       "1064                      Speakeasy  Rio de Janeiro      BRAZIL     55   \n",
       "1065                  Elephant Room    Buenos Aires   ARGENTINA     89   \n",
       "1066                    The Hideout          Aarhus     DENMARK     77   \n",
       "1067                      Augustine           Tulsa          OK     88   \n",
       "\n",
       "      ratings  \n",
       "0         4.0  \n",
       "1         2.5  \n",
       "2         4.5  \n",
       "3         4.5  \n",
       "4         4.5  \n",
       "...       ...  \n",
       "1063      3.5  \n",
       "1064      1.0  \n",
       "1065      2.0  \n",
       "1066      4.0  \n",
       "1067      4.5  \n",
       "\n",
       "[1068 rows x 12 columns]"
      ]
     },
     "execution_count": 15,
     "metadata": {},
     "output_type": "execute_result"
    }
   ],
   "source": [
    "df"
   ]
  },
  {
   "cell_type": "code",
   "execution_count": 4,
   "id": "ed91f63b",
   "metadata": {},
   "outputs": [],
   "source": [
    "df= df.drop(['Unnamed: 0'], axis=1)"
   ]
  },
  {
   "cell_type": "code",
   "execution_count": 16,
   "id": "5526dcae",
   "metadata": {},
   "outputs": [],
   "source": [
    "X= df[['Price','ratings']]\n",
    "y= df['genre']"
   ]
  },
  {
   "cell_type": "code",
   "execution_count": 17,
   "id": "cecf403c",
   "metadata": {},
   "outputs": [],
   "source": [
    "X_train, X_test, y_train, y_test = train_test_split(X, y, random_state=0)"
   ]
  },
  {
   "cell_type": "code",
   "execution_count": 18,
   "id": "6df7b47b",
   "metadata": {},
   "outputs": [
    {
     "data": {
      "text/html": [
       "<div>\n",
       "<style scoped>\n",
       "    .dataframe tbody tr th:only-of-type {\n",
       "        vertical-align: middle;\n",
       "    }\n",
       "\n",
       "    .dataframe tbody tr th {\n",
       "        vertical-align: top;\n",
       "    }\n",
       "\n",
       "    .dataframe thead th {\n",
       "        text-align: right;\n",
       "    }\n",
       "</style>\n",
       "<table border=\"1\" class=\"dataframe\">\n",
       "  <thead>\n",
       "    <tr style=\"text-align: right;\">\n",
       "      <th></th>\n",
       "      <th>Price</th>\n",
       "      <th>ratings</th>\n",
       "    </tr>\n",
       "  </thead>\n",
       "  <tbody>\n",
       "    <tr>\n",
       "      <th>261</th>\n",
       "      <td>92</td>\n",
       "      <td>2.0</td>\n",
       "    </tr>\n",
       "    <tr>\n",
       "      <th>412</th>\n",
       "      <td>92</td>\n",
       "      <td>1.0</td>\n",
       "    </tr>\n",
       "    <tr>\n",
       "      <th>741</th>\n",
       "      <td>51</td>\n",
       "      <td>4.0</td>\n",
       "    </tr>\n",
       "    <tr>\n",
       "      <th>150</th>\n",
       "      <td>3</td>\n",
       "      <td>1.0</td>\n",
       "    </tr>\n",
       "    <tr>\n",
       "      <th>729</th>\n",
       "      <td>93</td>\n",
       "      <td>1.0</td>\n",
       "    </tr>\n",
       "  </tbody>\n",
       "</table>\n",
       "</div>"
      ],
      "text/plain": [
       "     Price  ratings\n",
       "261     92      2.0\n",
       "412     92      1.0\n",
       "741     51      4.0\n",
       "150      3      1.0\n",
       "729     93      1.0"
      ]
     },
     "execution_count": 18,
     "metadata": {},
     "output_type": "execute_result"
    }
   ],
   "source": [
    "X_train.head()"
   ]
  },
  {
   "cell_type": "code",
   "execution_count": 19,
   "id": "eb2f28d4",
   "metadata": {},
   "outputs": [
    {
     "data": {
      "text/html": [
       "<style>#sk-container-id-2 {color: black;}#sk-container-id-2 pre{padding: 0;}#sk-container-id-2 div.sk-toggleable {background-color: white;}#sk-container-id-2 label.sk-toggleable__label {cursor: pointer;display: block;width: 100%;margin-bottom: 0;padding: 0.3em;box-sizing: border-box;text-align: center;}#sk-container-id-2 label.sk-toggleable__label-arrow:before {content: \"▸\";float: left;margin-right: 0.25em;color: #696969;}#sk-container-id-2 label.sk-toggleable__label-arrow:hover:before {color: black;}#sk-container-id-2 div.sk-estimator:hover label.sk-toggleable__label-arrow:before {color: black;}#sk-container-id-2 div.sk-toggleable__content {max-height: 0;max-width: 0;overflow: hidden;text-align: left;background-color: #f0f8ff;}#sk-container-id-2 div.sk-toggleable__content pre {margin: 0.2em;color: black;border-radius: 0.25em;background-color: #f0f8ff;}#sk-container-id-2 input.sk-toggleable__control:checked~div.sk-toggleable__content {max-height: 200px;max-width: 100%;overflow: auto;}#sk-container-id-2 input.sk-toggleable__control:checked~label.sk-toggleable__label-arrow:before {content: \"▾\";}#sk-container-id-2 div.sk-estimator input.sk-toggleable__control:checked~label.sk-toggleable__label {background-color: #d4ebff;}#sk-container-id-2 div.sk-label input.sk-toggleable__control:checked~label.sk-toggleable__label {background-color: #d4ebff;}#sk-container-id-2 input.sk-hidden--visually {border: 0;clip: rect(1px 1px 1px 1px);clip: rect(1px, 1px, 1px, 1px);height: 1px;margin: -1px;overflow: hidden;padding: 0;position: absolute;width: 1px;}#sk-container-id-2 div.sk-estimator {font-family: monospace;background-color: #f0f8ff;border: 1px dotted black;border-radius: 0.25em;box-sizing: border-box;margin-bottom: 0.5em;}#sk-container-id-2 div.sk-estimator:hover {background-color: #d4ebff;}#sk-container-id-2 div.sk-parallel-item::after {content: \"\";width: 100%;border-bottom: 1px solid gray;flex-grow: 1;}#sk-container-id-2 div.sk-label:hover label.sk-toggleable__label {background-color: #d4ebff;}#sk-container-id-2 div.sk-serial::before {content: \"\";position: absolute;border-left: 1px solid gray;box-sizing: border-box;top: 0;bottom: 0;left: 50%;z-index: 0;}#sk-container-id-2 div.sk-serial {display: flex;flex-direction: column;align-items: center;background-color: white;padding-right: 0.2em;padding-left: 0.2em;position: relative;}#sk-container-id-2 div.sk-item {position: relative;z-index: 1;}#sk-container-id-2 div.sk-parallel {display: flex;align-items: stretch;justify-content: center;background-color: white;position: relative;}#sk-container-id-2 div.sk-item::before, #sk-container-id-2 div.sk-parallel-item::before {content: \"\";position: absolute;border-left: 1px solid gray;box-sizing: border-box;top: 0;bottom: 0;left: 50%;z-index: -1;}#sk-container-id-2 div.sk-parallel-item {display: flex;flex-direction: column;z-index: 1;position: relative;background-color: white;}#sk-container-id-2 div.sk-parallel-item:first-child::after {align-self: flex-end;width: 50%;}#sk-container-id-2 div.sk-parallel-item:last-child::after {align-self: flex-start;width: 50%;}#sk-container-id-2 div.sk-parallel-item:only-child::after {width: 0;}#sk-container-id-2 div.sk-dashed-wrapped {border: 1px dashed gray;margin: 0 0.4em 0.5em 0.4em;box-sizing: border-box;padding-bottom: 0.4em;background-color: white;}#sk-container-id-2 div.sk-label label {font-family: monospace;font-weight: bold;display: inline-block;line-height: 1.2em;}#sk-container-id-2 div.sk-label-container {text-align: center;}#sk-container-id-2 div.sk-container {/* jupyter's `normalize.less` sets `[hidden] { display: none; }` but bootstrap.min.css set `[hidden] { display: none !important; }` so we also need the `!important` here to be able to override the default hidden behavior on the sphinx rendered scikit-learn.org. See: https://github.com/scikit-learn/scikit-learn/issues/21755 */display: inline-block !important;position: relative;}#sk-container-id-2 div.sk-text-repr-fallback {display: none;}</style><div id=\"sk-container-id-2\" class=\"sk-top-container\"><div class=\"sk-text-repr-fallback\"><pre>KNeighborsClassifier()</pre><b>In a Jupyter environment, please rerun this cell to show the HTML representation or trust the notebook. <br />On GitHub, the HTML representation is unable to render, please try loading this page with nbviewer.org.</b></div><div class=\"sk-container\" hidden><div class=\"sk-item\"><div class=\"sk-estimator sk-toggleable\"><input class=\"sk-toggleable__control sk-hidden--visually\" id=\"sk-estimator-id-2\" type=\"checkbox\" checked><label for=\"sk-estimator-id-2\" class=\"sk-toggleable__label sk-toggleable__label-arrow\">KNeighborsClassifier</label><div class=\"sk-toggleable__content\"><pre>KNeighborsClassifier()</pre></div></div></div></div></div>"
      ],
      "text/plain": [
       "KNeighborsClassifier()"
      ]
     },
     "execution_count": 19,
     "metadata": {},
     "output_type": "execute_result"
    }
   ],
   "source": [
    "knn = KNeighborsClassifier(n_neighbors = 5)\n",
    "knn.fit(X_train,y_train)"
   ]
  },
  {
   "cell_type": "code",
   "execution_count": 20,
   "id": "543ad9be",
   "metadata": {},
   "outputs": [
    {
     "data": {
      "text/plain": [
       "0.13108614232209737"
      ]
     },
     "execution_count": 20,
     "metadata": {},
     "output_type": "execute_result"
    }
   ],
   "source": [
    "knn.score(X_test,y_test)"
   ]
  },
  {
   "cell_type": "code",
   "execution_count": 21,
   "id": "46239349",
   "metadata": {},
   "outputs": [
    {
     "name": "stdout",
     "output_type": "stream",
     "text": [
      "Classical\n"
     ]
    },
    {
     "name": "stderr",
     "output_type": "stream",
     "text": [
      "C:\\Users\\User\\anaconda3\\Lib\\site-packages\\sklearn\\base.py:464: UserWarning: X does not have valid feature names, but KNeighborsClassifier was fitted with feature names\n",
      "  warnings.warn(\n"
     ]
    }
   ],
   "source": [
    "recommend_genre=knn.predict([[29,4]])\n",
    "print(recommend_genre[0])"
   ]
  },
  {
   "cell_type": "code",
   "execution_count": 22,
   "id": "3e69e790",
   "metadata": {},
   "outputs": [
    {
     "data": {
      "text/plain": [
       "0.21348314606741572"
      ]
     },
     "execution_count": 22,
     "metadata": {},
     "output_type": "execute_result"
    }
   ],
   "source": [
    "knn = KNeighborsClassifier(n_neighbors = 15)\n",
    "knn.fit(X_train,y_train)\n",
    "knn.score(X_test,y_test)"
   ]
  },
  {
   "cell_type": "code",
   "execution_count": 23,
   "id": "ad3568ea",
   "metadata": {},
   "outputs": [
    {
     "name": "stdout",
     "output_type": "stream",
     "text": [
      "Rock\n"
     ]
    },
    {
     "name": "stderr",
     "output_type": "stream",
     "text": [
      "C:\\Users\\User\\anaconda3\\Lib\\site-packages\\sklearn\\base.py:464: UserWarning: X does not have valid feature names, but KNeighborsClassifier was fitted with feature names\n",
      "  warnings.warn(\n"
     ]
    }
   ],
   "source": [
    "recommend_genre=knn.predict([[29,4]])\n",
    "print(recommend_genre[0])"
   ]
  },
  {
   "cell_type": "code",
   "execution_count": null,
   "id": "b8cde37c",
   "metadata": {},
   "outputs": [],
   "source": []
  }
 ],
 "metadata": {
  "kernelspec": {
   "display_name": "Python 3 (ipykernel)",
   "language": "python",
   "name": "python3"
  },
  "language_info": {
   "codemirror_mode": {
    "name": "ipython",
    "version": 3
   },
   "file_extension": ".py",
   "mimetype": "text/x-python",
   "name": "python",
   "nbconvert_exporter": "python",
   "pygments_lexer": "ipython3",
   "version": "3.11.5"
  }
 },
 "nbformat": 4,
 "nbformat_minor": 5
}
